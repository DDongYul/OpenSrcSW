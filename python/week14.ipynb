{
 "cells": [
  {
   "cell_type": "code",
   "execution_count": null,
   "id": "aa7afa2b",
   "metadata": {},
   "outputs": [],
   "source": [
    "import numpy as np\n",
    "import pandas as pd\n",
    "\n",
    "df = pd.DataFrame(np.array([(1000,25) , (280,120) , (900,30)]), index = ['store1', 'store2','store3'] , columns=['unit price','number'])\n",
    "df['total price'] = df['unit price'] * df['number']\n",
    "max_index = ''\n",
    "max = 0\n",
    "for i in df['total price']:\n",
    "    if(max<i):\n",
    "        max = i\n",
    "\n",
    "print(df)\n",
    "print('---------------------------------------------')\n",
    "print(df[df['total price']==max])"
   ]
  }
 ],
 "metadata": {
  "kernelspec": {
   "display_name": "Python 3 (ipykernel)",
   "language": "python",
   "name": "python3"
  },
  "language_info": {
   "codemirror_mode": {
    "name": "ipython",
    "version": 3
   },
   "file_extension": ".py",
   "mimetype": "text/x-python",
   "name": "python",
   "nbconvert_exporter": "python",
   "pygments_lexer": "ipython3",
   "version": "3.9.12"
  }
 },
 "nbformat": 4,
 "nbformat_minor": 5
}
