{
 "cells": [
  {
   "cell_type": "code",
   "execution_count": 1,
   "id": "4fa5f5ca",
   "metadata": {},
   "outputs": [
    {
     "ename": "FileNotFoundError",
     "evalue": "[Errno 2] No such file or directory: 'country_vaccinations.csv'",
     "output_type": "error",
     "traceback": [
      "\u001b[0;31m---------------------------------------------------------------------------\u001b[0m",
      "\u001b[0;31mFileNotFoundError\u001b[0m                         Traceback (most recent call last)",
      "Input \u001b[0;32mIn [1]\u001b[0m, in \u001b[0;36m<cell line: 27>\u001b[0;34m()\u001b[0m\n\u001b[1;32m     25\u001b[0m     \u001b[38;5;28mprint\u001b[39m(\u001b[38;5;124m\"\u001b[39m\u001b[38;5;124m가장많이 접종된 날:\u001b[39m\u001b[38;5;124m\"\u001b[39m,max_key , \u001b[38;5;28mmax\u001b[39m)\n\u001b[1;32m     26\u001b[0m     \u001b[38;5;28mprint\u001b[39m(\u001b[38;5;124m\"\u001b[39m\u001b[38;5;124m가장적게 접종된 날:\u001b[39m\u001b[38;5;124m\"\u001b[39m,min_key , \u001b[38;5;28mmin\u001b[39m)\n\u001b[0;32m---> 27\u001b[0m \u001b[43mnum3\u001b[49m\u001b[43m(\u001b[49m\u001b[43m)\u001b[49m\n\u001b[1;32m     29\u001b[0m \u001b[38;5;28;01mdef\u001b[39;00m \u001b[38;5;21mnum4\u001b[39m():\n\u001b[1;32m     30\u001b[0m     f \u001b[38;5;241m=\u001b[39m \u001b[38;5;28mopen\u001b[39m(\u001b[38;5;124m\"\u001b[39m\u001b[38;5;124mcountry_vaccinations.csv\u001b[39m\u001b[38;5;124m\"\u001b[39m, \u001b[38;5;124m'\u001b[39m\u001b[38;5;124mr\u001b[39m\u001b[38;5;124m'\u001b[39m, encoding\u001b[38;5;241m=\u001b[39m\u001b[38;5;124m'\u001b[39m\u001b[38;5;124mcp949\u001b[39m\u001b[38;5;124m'\u001b[39m)\n",
      "Input \u001b[0;32mIn [1]\u001b[0m, in \u001b[0;36mnum3\u001b[0;34m()\u001b[0m\n\u001b[1;32m      2\u001b[0m \u001b[38;5;28;01mdef\u001b[39;00m \u001b[38;5;21mnum3\u001b[39m():\n\u001b[0;32m----> 3\u001b[0m     f\u001b[38;5;241m=\u001b[39m\u001b[38;5;28;43mopen\u001b[39;49m\u001b[43m(\u001b[49m\u001b[38;5;124;43m\"\u001b[39;49m\u001b[38;5;124;43mcountry_vaccinations.csv\u001b[39;49m\u001b[38;5;124;43m\"\u001b[39;49m\u001b[43m \u001b[49m\u001b[43m,\u001b[49m\u001b[43m \u001b[49m\u001b[38;5;124;43m'\u001b[39;49m\u001b[38;5;124;43mr\u001b[39;49m\u001b[38;5;124;43m'\u001b[39;49m\u001b[43m \u001b[49m\u001b[43m,\u001b[49m\u001b[43m \u001b[49m\u001b[43mencoding\u001b[49m\u001b[38;5;241;43m=\u001b[39;49m\u001b[38;5;124;43m'\u001b[39;49m\u001b[38;5;124;43mcp949\u001b[39;49m\u001b[38;5;124;43m'\u001b[39;49m\u001b[43m)\u001b[49m\n\u001b[1;32m      4\u001b[0m     data \u001b[38;5;241m=\u001b[39m csv\u001b[38;5;241m.\u001b[39mreader(f)\n\u001b[1;32m      5\u001b[0m     header \u001b[38;5;241m=\u001b[39m\u001b[38;5;28mnext\u001b[39m(data)\n",
      "\u001b[0;31mFileNotFoundError\u001b[0m: [Errno 2] No such file or directory: 'country_vaccinations.csv'"
     ]
    }
   ],
   "source": [
    "import csv\n",
    "def num3():\n",
    "    f=open(\"country_vaccinations.csv\" , 'r' , encoding='cp949')\n",
    "    data = csv.reader(f)\n",
    "    header =next(data)\n",
    "    dic = {}\n",
    "    for line in data:\n",
    "        if line[7] == '':\n",
    "            line[7] = 0\n",
    "        if line[2] in dic:\n",
    "            dic[line[2]]+=int(float(line[7]))\n",
    "        else:\n",
    "            dic[line[2]]=int(float(line[7]))\n",
    "    max = 0\n",
    "    min = 999999999999\n",
    "    key = dic.keys()\n",
    "    for i in key:\n",
    "        if(dic[i] > max):\n",
    "            max = dic[i]\n",
    "            max_key = i\n",
    "        if(dic[i]<min):\n",
    "            min = dic[i]\n",
    "            min_key = i\n",
    "\n",
    "    print(\"가장많이 접종된 날:\",max_key , max)\n",
    "    print(\"가장적게 접종된 날:\",min_key , min)\n",
    "num3()\n",
    "\n",
    "def num4():\n",
    "    f = open(\"country_vaccinations.csv\", 'r', encoding='cp949')\n",
    "    data = csv.reader(f)\n",
    "    header = next(data)\n",
    "    list = []\n",
    "    for line in data:\n",
    "        vac_list = line[-3].split(\",\")\n",
    "        for i in vac_list:\n",
    "            if (i,line[0]) not in list:\n",
    "                list.append((i,line[0]))\n",
    "    dic = {}\n",
    "    for i in list:\n",
    "        if i[0] in dic:\n",
    "            dic[i[0]] +=1\n",
    "        else:\n",
    "            dic[i[0]] = 1\n",
    "    print(dic)\n",
    "\n",
    "num4()\n",
    "\n"
   ]
  },
  {
   "cell_type": "code",
   "execution_count": null,
   "id": "eb7e8575",
   "metadata": {},
   "outputs": [],
   "source": []
  }
 ],
 "metadata": {
  "kernelspec": {
   "display_name": "Python 3 (ipykernel)",
   "language": "python",
   "name": "python3"
  },
  "language_info": {
   "codemirror_mode": {
    "name": "ipython",
    "version": 3
   },
   "file_extension": ".py",
   "mimetype": "text/x-python",
   "name": "python",
   "nbconvert_exporter": "python",
   "pygments_lexer": "ipython3",
   "version": "3.9.12"
  }
 },
 "nbformat": 4,
 "nbformat_minor": 5
}
